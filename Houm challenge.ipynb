{
 "cells": [
  {
   "cell_type": "code",
   "execution_count": 1,
   "id": "large-shopper",
   "metadata": {},
   "outputs": [],
   "source": [
    "# importar librerias\n",
    "import pandas as pd\n",
    "import requests\n",
    "import json"
   ]
  },
  {
   "cell_type": "markdown",
   "id": "incredible-possession",
   "metadata": {},
   "source": [
    "# Pregunta 1"
   ]
  },
  {
   "cell_type": "code",
   "execution_count": 2,
   "id": "wooden-creativity",
   "metadata": {},
   "outputs": [],
   "source": [
    "# obtenemos el total de pokemon de 'count'\n",
    "r = requests.get('https://pokeapi.co/api/v2/pokemon/').json()\n",
    "count = r[\"count\"]"
   ]
  },
  {
   "cell_type": "code",
   "execution_count": 3,
   "id": "signal-relationship",
   "metadata": {},
   "outputs": [],
   "source": [
    "# obtenemos todos los pokemon\n",
    "r = requests.get(f'https://pokeapi.co/api/v2/pokemon/?limit={count}').json()"
   ]
  },
  {
   "cell_type": "code",
   "execution_count": 4,
   "id": "regulation-question",
   "metadata": {},
   "outputs": [],
   "source": [
    "# generamos dataframe con los pokemon y sus nombres\n",
    "df = pd.DataFrame(r['results'])"
   ]
  },
  {
   "cell_type": "code",
   "execution_count": 5,
   "id": "oriental-nancy",
   "metadata": {},
   "outputs": [
    {
     "data": {
      "text/html": [
       "<div>\n",
       "<style scoped>\n",
       "    .dataframe tbody tr th:only-of-type {\n",
       "        vertical-align: middle;\n",
       "    }\n",
       "\n",
       "    .dataframe tbody tr th {\n",
       "        vertical-align: top;\n",
       "    }\n",
       "\n",
       "    .dataframe thead th {\n",
       "        text-align: right;\n",
       "    }\n",
       "</style>\n",
       "<table border=\"1\" class=\"dataframe\">\n",
       "  <thead>\n",
       "    <tr style=\"text-align: right;\">\n",
       "      <th></th>\n",
       "      <th>name</th>\n",
       "      <th>url</th>\n",
       "    </tr>\n",
       "  </thead>\n",
       "  <tbody>\n",
       "    <tr>\n",
       "      <th>19</th>\n",
       "      <td>raticate</td>\n",
       "      <td>https://pokeapi.co/api/v2/pokemon/20/</td>\n",
       "    </tr>\n",
       "    <tr>\n",
       "      <th>159</th>\n",
       "      <td>feraligatr</td>\n",
       "      <td>https://pokeapi.co/api/v2/pokemon/160/</td>\n",
       "    </tr>\n",
       "    <tr>\n",
       "      <th>379</th>\n",
       "      <td>latias</td>\n",
       "      <td>https://pokeapi.co/api/v2/pokemon/380/</td>\n",
       "    </tr>\n",
       "    <tr>\n",
       "      <th>484</th>\n",
       "      <td>heatran</td>\n",
       "      <td>https://pokeapi.co/api/v2/pokemon/485/</td>\n",
       "    </tr>\n",
       "    <tr>\n",
       "      <th>503</th>\n",
       "      <td>patrat</td>\n",
       "      <td>https://pokeapi.co/api/v2/pokemon/504/</td>\n",
       "    </tr>\n",
       "  </tbody>\n",
       "</table>\n",
       "</div>"
      ],
      "text/plain": [
       "           name                                     url\n",
       "19     raticate   https://pokeapi.co/api/v2/pokemon/20/\n",
       "159  feraligatr  https://pokeapi.co/api/v2/pokemon/160/\n",
       "379      latias  https://pokeapi.co/api/v2/pokemon/380/\n",
       "484     heatran  https://pokeapi.co/api/v2/pokemon/485/\n",
       "503      patrat  https://pokeapi.co/api/v2/pokemon/504/"
      ]
     },
     "execution_count": 5,
     "metadata": {},
     "output_type": "execute_result"
    }
   ],
   "source": [
    "# filtramos por el criterio de la pregunta 1\n",
    "df_filtered = df[(df.name.str.contains('at')) & (df.name.str.count('a') == 2)]\n",
    "df_filtered.head()"
   ]
  },
  {
   "cell_type": "code",
   "execution_count": 6,
   "id": "parliamentary-helmet",
   "metadata": {},
   "outputs": [
    {
     "data": {
      "text/plain": [
       "14"
      ]
     },
     "execution_count": 6,
     "metadata": {},
     "output_type": "execute_result"
    }
   ],
   "source": [
    "# obtenemos el resultado de la pregunta 1\n",
    "df_filtered.count()[0]"
   ]
  },
  {
   "cell_type": "markdown",
   "id": "incorrect-challenge",
   "metadata": {},
   "source": [
    "# Pregunta 2"
   ]
  },
  {
   "cell_type": "code",
   "execution_count": 7,
   "id": "mysterious-oxford",
   "metadata": {},
   "outputs": [
    {
     "data": {
      "text/html": [
       "<div>\n",
       "<style scoped>\n",
       "    .dataframe tbody tr th:only-of-type {\n",
       "        vertical-align: middle;\n",
       "    }\n",
       "\n",
       "    .dataframe tbody tr th {\n",
       "        vertical-align: top;\n",
       "    }\n",
       "\n",
       "    .dataframe thead th {\n",
       "        text-align: right;\n",
       "    }\n",
       "</style>\n",
       "<table border=\"1\" class=\"dataframe\">\n",
       "  <thead>\n",
       "    <tr style=\"text-align: right;\">\n",
       "      <th></th>\n",
       "      <th>name</th>\n",
       "      <th>url</th>\n",
       "      <th>group</th>\n",
       "    </tr>\n",
       "  </thead>\n",
       "  <tbody>\n",
       "    <tr>\n",
       "      <th>0</th>\n",
       "      <td>bulbasaur</td>\n",
       "      <td>https://pokeapi.co/api/v2/pokemon-species/1/</td>\n",
       "      <td>monster</td>\n",
       "    </tr>\n",
       "    <tr>\n",
       "      <th>1</th>\n",
       "      <td>ivysaur</td>\n",
       "      <td>https://pokeapi.co/api/v2/pokemon-species/2/</td>\n",
       "      <td>monster</td>\n",
       "    </tr>\n",
       "    <tr>\n",
       "      <th>2</th>\n",
       "      <td>venusaur</td>\n",
       "      <td>https://pokeapi.co/api/v2/pokemon-species/3/</td>\n",
       "      <td>monster</td>\n",
       "    </tr>\n",
       "    <tr>\n",
       "      <th>3</th>\n",
       "      <td>charmander</td>\n",
       "      <td>https://pokeapi.co/api/v2/pokemon-species/4/</td>\n",
       "      <td>monster</td>\n",
       "    </tr>\n",
       "    <tr>\n",
       "      <th>4</th>\n",
       "      <td>charmeleon</td>\n",
       "      <td>https://pokeapi.co/api/v2/pokemon-species/5/</td>\n",
       "      <td>monster</td>\n",
       "    </tr>\n",
       "  </tbody>\n",
       "</table>\n",
       "</div>"
      ],
      "text/plain": [
       "         name                                           url    group\n",
       "0   bulbasaur  https://pokeapi.co/api/v2/pokemon-species/1/  monster\n",
       "1     ivysaur  https://pokeapi.co/api/v2/pokemon-species/2/  monster\n",
       "2    venusaur  https://pokeapi.co/api/v2/pokemon-species/3/  monster\n",
       "3  charmander  https://pokeapi.co/api/v2/pokemon-species/4/  monster\n",
       "4  charmeleon  https://pokeapi.co/api/v2/pokemon-species/5/  monster"
      ]
     },
     "execution_count": 7,
     "metadata": {},
     "output_type": "execute_result"
    }
   ],
   "source": [
    "# Creamos un dataframe con todos los pokemones y sus egg groups\n",
    "pokemon = 'raichu'\n",
    "count = requests.get('https://pokeapi.co/api/v2/egg-group/').json()['count']\n",
    "\n",
    "df_egg_groups = pd.DataFrame()\n",
    "for i in range(1, count+1):\n",
    "    r = requests.get(f'https://pokeapi.co/api/v2/egg-group/{i}').json()\n",
    "    df_aux = pd.DataFrame(r['pokemon_species'])\n",
    "    df_aux['group'] = r['name']\n",
    "    df_egg_groups = df_egg_groups.append(df_aux, ignore_index = True)\n",
    "\n",
    "df_egg_groups.head()"
   ]
  },
  {
   "cell_type": "code",
   "execution_count": 8,
   "id": "hundred-upset",
   "metadata": {},
   "outputs": [
    {
     "data": {
      "text/html": [
       "<div>\n",
       "<style scoped>\n",
       "    .dataframe tbody tr th:only-of-type {\n",
       "        vertical-align: middle;\n",
       "    }\n",
       "\n",
       "    .dataframe tbody tr th {\n",
       "        vertical-align: top;\n",
       "    }\n",
       "\n",
       "    .dataframe thead th {\n",
       "        text-align: right;\n",
       "    }\n",
       "</style>\n",
       "<table border=\"1\" class=\"dataframe\">\n",
       "  <thead>\n",
       "    <tr style=\"text-align: right;\">\n",
       "      <th></th>\n",
       "      <th>name</th>\n",
       "    </tr>\n",
       "  </thead>\n",
       "  <tbody>\n",
       "    <tr>\n",
       "      <th>308</th>\n",
       "      <td>rattata</td>\n",
       "    </tr>\n",
       "    <tr>\n",
       "      <th>309</th>\n",
       "      <td>raticate</td>\n",
       "    </tr>\n",
       "    <tr>\n",
       "      <th>310</th>\n",
       "      <td>ekans</td>\n",
       "    </tr>\n",
       "    <tr>\n",
       "      <th>311</th>\n",
       "      <td>arbok</td>\n",
       "    </tr>\n",
       "    <tr>\n",
       "      <th>312</th>\n",
       "      <td>pikachu</td>\n",
       "    </tr>\n",
       "  </tbody>\n",
       "</table>\n",
       "</div>"
      ],
      "text/plain": [
       "         name\n",
       "308   rattata\n",
       "309  raticate\n",
       "310     ekans\n",
       "311     arbok\n",
       "312   pikachu"
      ]
     },
     "execution_count": 8,
     "metadata": {},
     "output_type": "execute_result"
    }
   ],
   "source": [
    "# Filtramos por pokemones segun si comparten un grupo con el pokemon buscado (raichu)\n",
    "aux = df_egg_groups.loc[df_egg_groups['name'].str.lower() == pokemon, ['group']]\n",
    "df_egg = df_egg_groups[df_egg_groups['group'].isin(aux['group'].values)]\n",
    "\n",
    "# eliminamos duplicados si hay (interesa solo los nombres, nos deshacemos de las otras columnas por practicalidad)\n",
    "df_egg = df_egg.drop(columns=['group', 'url'])\n",
    "df_egg = df_egg.drop_duplicates()\n",
    "df_egg.head()"
   ]
  },
  {
   "cell_type": "code",
   "execution_count": 9,
   "id": "amber-mining",
   "metadata": {},
   "outputs": [
    {
     "data": {
      "text/plain": [
       "258"
      ]
     },
     "execution_count": 9,
     "metadata": {},
     "output_type": "execute_result"
    }
   ],
   "source": [
    "# Contamos las filas, es decir, todas las especies que pueden procrear con raichu\n",
    "# Resultado\n",
    "df_egg.count()[0]"
   ]
  },
  {
   "cell_type": "markdown",
   "id": "adult-tournament",
   "metadata": {},
   "source": [
    "# Pregunta 3"
   ]
  },
  {
   "cell_type": "code",
   "execution_count": 10,
   "id": "controlling-concentration",
   "metadata": {},
   "outputs": [
    {
     "data": {
      "text/html": [
       "<div>\n",
       "<style scoped>\n",
       "    .dataframe tbody tr th:only-of-type {\n",
       "        vertical-align: middle;\n",
       "    }\n",
       "\n",
       "    .dataframe tbody tr th {\n",
       "        vertical-align: top;\n",
       "    }\n",
       "\n",
       "    .dataframe thead th {\n",
       "        text-align: right;\n",
       "    }\n",
       "</style>\n",
       "<table border=\"1\" class=\"dataframe\">\n",
       "  <thead>\n",
       "    <tr style=\"text-align: right;\">\n",
       "      <th></th>\n",
       "      <th>slot</th>\n",
       "      <th>name</th>\n",
       "      <th>url</th>\n",
       "      <th>num</th>\n",
       "    </tr>\n",
       "  </thead>\n",
       "  <tbody>\n",
       "    <tr>\n",
       "      <th>0</th>\n",
       "      <td>1</td>\n",
       "      <td>mankey</td>\n",
       "      <td>https://pokeapi.co/api/v2/pokemon/56/</td>\n",
       "      <td>56</td>\n",
       "    </tr>\n",
       "    <tr>\n",
       "      <th>1</th>\n",
       "      <td>1</td>\n",
       "      <td>primeape</td>\n",
       "      <td>https://pokeapi.co/api/v2/pokemon/57/</td>\n",
       "      <td>57</td>\n",
       "    </tr>\n",
       "    <tr>\n",
       "      <th>2</th>\n",
       "      <td>2</td>\n",
       "      <td>poliwrath</td>\n",
       "      <td>https://pokeapi.co/api/v2/pokemon/62/</td>\n",
       "      <td>62</td>\n",
       "    </tr>\n",
       "    <tr>\n",
       "      <th>3</th>\n",
       "      <td>1</td>\n",
       "      <td>machop</td>\n",
       "      <td>https://pokeapi.co/api/v2/pokemon/66/</td>\n",
       "      <td>66</td>\n",
       "    </tr>\n",
       "    <tr>\n",
       "      <th>4</th>\n",
       "      <td>1</td>\n",
       "      <td>machoke</td>\n",
       "      <td>https://pokeapi.co/api/v2/pokemon/67/</td>\n",
       "      <td>67</td>\n",
       "    </tr>\n",
       "    <tr>\n",
       "      <th>5</th>\n",
       "      <td>1</td>\n",
       "      <td>machamp</td>\n",
       "      <td>https://pokeapi.co/api/v2/pokemon/68/</td>\n",
       "      <td>68</td>\n",
       "    </tr>\n",
       "    <tr>\n",
       "      <th>6</th>\n",
       "      <td>1</td>\n",
       "      <td>hitmonlee</td>\n",
       "      <td>https://pokeapi.co/api/v2/pokemon/106/</td>\n",
       "      <td>106</td>\n",
       "    </tr>\n",
       "    <tr>\n",
       "      <th>7</th>\n",
       "      <td>1</td>\n",
       "      <td>hitmonchan</td>\n",
       "      <td>https://pokeapi.co/api/v2/pokemon/107/</td>\n",
       "      <td>107</td>\n",
       "    </tr>\n",
       "  </tbody>\n",
       "</table>\n",
       "</div>"
      ],
      "text/plain": [
       "   slot        name                                     url  num\n",
       "0     1      mankey   https://pokeapi.co/api/v2/pokemon/56/   56\n",
       "1     1    primeape   https://pokeapi.co/api/v2/pokemon/57/   57\n",
       "2     2   poliwrath   https://pokeapi.co/api/v2/pokemon/62/   62\n",
       "3     1      machop   https://pokeapi.co/api/v2/pokemon/66/   66\n",
       "4     1     machoke   https://pokeapi.co/api/v2/pokemon/67/   67\n",
       "5     1     machamp   https://pokeapi.co/api/v2/pokemon/68/   68\n",
       "6     1   hitmonlee  https://pokeapi.co/api/v2/pokemon/106/  106\n",
       "7     1  hitmonchan  https://pokeapi.co/api/v2/pokemon/107/  107"
      ]
     },
     "execution_count": 10,
     "metadata": {},
     "output_type": "execute_result"
    }
   ],
   "source": [
    "# Buscamos a todos los pokemon tipo fighting (con id menor o igual a 151)\n",
    "fighters = requests.get('https://pokeapi.co/api/v2/type/fighting').json()\n",
    "fighters = fighters['pokemon']\n",
    "fighters = pd.DataFrame(fighters)\n",
    "fighters = pd.concat([fighters.drop(['pokemon'], axis=1), fighters['pokemon'].apply(pd.Series)], axis=1)\n",
    "\n",
    "# de 'url' sacamos el id\n",
    "fighters['num'] = fighters.apply(lambda x: int(x['url'].split('/')[6]), axis=1)\n",
    "fighters = fighters[fighters['num'] <= 151]\n",
    "fighters"
   ]
  },
  {
   "cell_type": "code",
   "execution_count": 11,
   "id": "wireless-freeware",
   "metadata": {},
   "outputs": [
    {
     "data": {
      "text/plain": [
       "[1300, 195]"
      ]
     },
     "execution_count": 11,
     "metadata": {},
     "output_type": "execute_result"
    }
   ],
   "source": [
    "# Iteramos sobre los pokemones seleccionados y actualizamos valores de peso max y min\n",
    "pmin = 99999999\n",
    "pmax = 0\n",
    "for row in fighters.itertuples():\n",
    "    r = requests.get(row[3]).json()\n",
    "    if r['weight'] < pmin:\n",
    "        pmin = r['weight']\n",
    "    if r['weight'] > pmax:\n",
    "        pmax = r['weight']\n",
    "\n",
    "# Finalmente creamos la lista final\n",
    "respuesta = [pmax, pmin]\n",
    "respuesta\n"
   ]
  },
  {
   "cell_type": "code",
   "execution_count": null,
   "id": "interstate-spending",
   "metadata": {},
   "outputs": [],
   "source": []
  }
 ],
 "metadata": {
  "kernelspec": {
   "display_name": "Python 3",
   "language": "python",
   "name": "python3"
  },
  "language_info": {
   "codemirror_mode": {
    "name": "ipython",
    "version": 3
   },
   "file_extension": ".py",
   "mimetype": "text/x-python",
   "name": "python",
   "nbconvert_exporter": "python",
   "pygments_lexer": "ipython3",
   "version": "3.6.8"
  }
 },
 "nbformat": 4,
 "nbformat_minor": 5
}
