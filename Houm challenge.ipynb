{
 "cells": [
  {
   "cell_type": "code",
   "execution_count": 9,
   "id": "laughing-monte",
   "metadata": {},
   "outputs": [],
   "source": [
    "# importar librerias\n",
    "import pandas as pd\n",
    "import requests\n",
    "import json"
   ]
  },
  {
   "cell_type": "markdown",
   "id": "improved-banana",
   "metadata": {},
   "source": [
    "# Pregunta 1"
   ]
  },
  {
   "cell_type": "code",
   "execution_count": 88,
   "id": "rotary-regression",
   "metadata": {},
   "outputs": [],
   "source": [
    "# obtenemos el total de pokemon de 'count'\n",
    "r = requests.get('https://pokeapi.co/api/v2/pokemon/').json()\n",
    "count = r[\"count\"]"
   ]
  },
  {
   "cell_type": "code",
   "execution_count": 89,
   "id": "pointed-gregory",
   "metadata": {},
   "outputs": [],
   "source": [
    "# obtenemos todos los pokemon\n",
    "r = requests.get(f'https://pokeapi.co/api/v2/pokemon/?limit={count}').json()"
   ]
  },
  {
   "cell_type": "code",
   "execution_count": 91,
   "id": "appreciated-economy",
   "metadata": {},
   "outputs": [],
   "source": [
    "# generamos dataframe con los pokemon y sus nombres\n",
    "df = pd.DataFrame(r['results'])"
   ]
  },
  {
   "cell_type": "code",
   "execution_count": 103,
   "id": "surrounded-screening",
   "metadata": {},
   "outputs": [
    {
     "data": {
      "text/html": [
       "<div>\n",
       "<style scoped>\n",
       "    .dataframe tbody tr th:only-of-type {\n",
       "        vertical-align: middle;\n",
       "    }\n",
       "\n",
       "    .dataframe tbody tr th {\n",
       "        vertical-align: top;\n",
       "    }\n",
       "\n",
       "    .dataframe thead th {\n",
       "        text-align: right;\n",
       "    }\n",
       "</style>\n",
       "<table border=\"1\" class=\"dataframe\">\n",
       "  <thead>\n",
       "    <tr style=\"text-align: right;\">\n",
       "      <th></th>\n",
       "      <th>name</th>\n",
       "      <th>url</th>\n",
       "    </tr>\n",
       "  </thead>\n",
       "  <tbody>\n",
       "    <tr>\n",
       "      <th>19</th>\n",
       "      <td>raticate</td>\n",
       "      <td>https://pokeapi.co/api/v2/pokemon/20/</td>\n",
       "    </tr>\n",
       "    <tr>\n",
       "      <th>159</th>\n",
       "      <td>feraligatr</td>\n",
       "      <td>https://pokeapi.co/api/v2/pokemon/160/</td>\n",
       "    </tr>\n",
       "    <tr>\n",
       "      <th>379</th>\n",
       "      <td>latias</td>\n",
       "      <td>https://pokeapi.co/api/v2/pokemon/380/</td>\n",
       "    </tr>\n",
       "    <tr>\n",
       "      <th>484</th>\n",
       "      <td>heatran</td>\n",
       "      <td>https://pokeapi.co/api/v2/pokemon/485/</td>\n",
       "    </tr>\n",
       "    <tr>\n",
       "      <th>503</th>\n",
       "      <td>patrat</td>\n",
       "      <td>https://pokeapi.co/api/v2/pokemon/504/</td>\n",
       "    </tr>\n",
       "    <tr>\n",
       "      <th>641</th>\n",
       "      <td>thundurus-incarnate</td>\n",
       "      <td>https://pokeapi.co/api/v2/pokemon/642/</td>\n",
       "    </tr>\n",
       "    <tr>\n",
       "      <th>682</th>\n",
       "      <td>aromatisse</td>\n",
       "      <td>https://pokeapi.co/api/v2/pokemon/683/</td>\n",
       "    </tr>\n",
       "    <tr>\n",
       "      <th>725</th>\n",
       "      <td>torracat</td>\n",
       "      <td>https://pokeapi.co/api/v2/pokemon/726/</td>\n",
       "    </tr>\n",
       "    <tr>\n",
       "      <th>855</th>\n",
       "      <td>hatenna</td>\n",
       "      <td>https://pokeapi.co/api/v2/pokemon/856/</td>\n",
       "    </tr>\n",
       "    <tr>\n",
       "      <th>898</th>\n",
       "      <td>deoxys-attack</td>\n",
       "      <td>https://pokeapi.co/api/v2/pokemon/10001/</td>\n",
       "    </tr>\n",
       "    <tr>\n",
       "      <th>904</th>\n",
       "      <td>giratina-origin</td>\n",
       "      <td>https://pokeapi.co/api/v2/pokemon/10007/</td>\n",
       "    </tr>\n",
       "    <tr>\n",
       "      <th>960</th>\n",
       "      <td>latios-mega</td>\n",
       "      <td>https://pokeapi.co/api/v2/pokemon/10063/</td>\n",
       "    </tr>\n",
       "    <tr>\n",
       "      <th>1013</th>\n",
       "      <td>greninja-battle-bond</td>\n",
       "      <td>https://pokeapi.co/api/v2/pokemon/10116/</td>\n",
       "    </tr>\n",
       "    <tr>\n",
       "      <th>1109</th>\n",
       "      <td>hatterene-gmax</td>\n",
       "      <td>https://pokeapi.co/api/v2/pokemon/10212/</td>\n",
       "    </tr>\n",
       "  </tbody>\n",
       "</table>\n",
       "</div>"
      ],
      "text/plain": [
       "                      name                                       url\n",
       "19                raticate     https://pokeapi.co/api/v2/pokemon/20/\n",
       "159             feraligatr    https://pokeapi.co/api/v2/pokemon/160/\n",
       "379                 latias    https://pokeapi.co/api/v2/pokemon/380/\n",
       "484                heatran    https://pokeapi.co/api/v2/pokemon/485/\n",
       "503                 patrat    https://pokeapi.co/api/v2/pokemon/504/\n",
       "641    thundurus-incarnate    https://pokeapi.co/api/v2/pokemon/642/\n",
       "682             aromatisse    https://pokeapi.co/api/v2/pokemon/683/\n",
       "725               torracat    https://pokeapi.co/api/v2/pokemon/726/\n",
       "855                hatenna    https://pokeapi.co/api/v2/pokemon/856/\n",
       "898          deoxys-attack  https://pokeapi.co/api/v2/pokemon/10001/\n",
       "904        giratina-origin  https://pokeapi.co/api/v2/pokemon/10007/\n",
       "960            latios-mega  https://pokeapi.co/api/v2/pokemon/10063/\n",
       "1013  greninja-battle-bond  https://pokeapi.co/api/v2/pokemon/10116/\n",
       "1109        hatterene-gmax  https://pokeapi.co/api/v2/pokemon/10212/"
      ]
     },
     "execution_count": 103,
     "metadata": {},
     "output_type": "execute_result"
    }
   ],
   "source": [
    "# filtramos por el criterio de la pregunta 1\n",
    "df_filtered = df[(df.name.str.contains('at')) & (df.name.str.count('a') == 2)]\n",
    "df_filtered.head()"
   ]
  },
  {
   "cell_type": "code",
   "execution_count": 106,
   "id": "crucial-merchandise",
   "metadata": {},
   "outputs": [
    {
     "data": {
      "text/plain": [
       "14"
      ]
     },
     "execution_count": 106,
     "metadata": {},
     "output_type": "execute_result"
    }
   ],
   "source": [
    "# obtenemos el resultado de la pregunta 1\n",
    "df_filtered.count()[0]"
   ]
  },
  {
   "cell_type": "markdown",
   "id": "frequent-latin",
   "metadata": {},
   "source": [
    "# Pregunta 2"
   ]
  },
  {
   "cell_type": "code",
   "execution_count": 180,
   "id": "nonprofit-portal",
   "metadata": {},
   "outputs": [
    {
     "data": {
      "text/html": [
       "<div>\n",
       "<style scoped>\n",
       "    .dataframe tbody tr th:only-of-type {\n",
       "        vertical-align: middle;\n",
       "    }\n",
       "\n",
       "    .dataframe tbody tr th {\n",
       "        vertical-align: top;\n",
       "    }\n",
       "\n",
       "    .dataframe thead th {\n",
       "        text-align: right;\n",
       "    }\n",
       "</style>\n",
       "<table border=\"1\" class=\"dataframe\">\n",
       "  <thead>\n",
       "    <tr style=\"text-align: right;\">\n",
       "      <th></th>\n",
       "      <th>name</th>\n",
       "      <th>url</th>\n",
       "      <th>group</th>\n",
       "    </tr>\n",
       "  </thead>\n",
       "  <tbody>\n",
       "    <tr>\n",
       "      <th>0</th>\n",
       "      <td>bulbasaur</td>\n",
       "      <td>https://pokeapi.co/api/v2/pokemon-species/1/</td>\n",
       "      <td>monster</td>\n",
       "    </tr>\n",
       "    <tr>\n",
       "      <th>1</th>\n",
       "      <td>ivysaur</td>\n",
       "      <td>https://pokeapi.co/api/v2/pokemon-species/2/</td>\n",
       "      <td>monster</td>\n",
       "    </tr>\n",
       "    <tr>\n",
       "      <th>2</th>\n",
       "      <td>venusaur</td>\n",
       "      <td>https://pokeapi.co/api/v2/pokemon-species/3/</td>\n",
       "      <td>monster</td>\n",
       "    </tr>\n",
       "    <tr>\n",
       "      <th>3</th>\n",
       "      <td>charmander</td>\n",
       "      <td>https://pokeapi.co/api/v2/pokemon-species/4/</td>\n",
       "      <td>monster</td>\n",
       "    </tr>\n",
       "    <tr>\n",
       "      <th>4</th>\n",
       "      <td>charmeleon</td>\n",
       "      <td>https://pokeapi.co/api/v2/pokemon-species/5/</td>\n",
       "      <td>monster</td>\n",
       "    </tr>\n",
       "  </tbody>\n",
       "</table>\n",
       "</div>"
      ],
      "text/plain": [
       "         name                                           url    group\n",
       "0   bulbasaur  https://pokeapi.co/api/v2/pokemon-species/1/  monster\n",
       "1     ivysaur  https://pokeapi.co/api/v2/pokemon-species/2/  monster\n",
       "2    venusaur  https://pokeapi.co/api/v2/pokemon-species/3/  monster\n",
       "3  charmander  https://pokeapi.co/api/v2/pokemon-species/4/  monster\n",
       "4  charmeleon  https://pokeapi.co/api/v2/pokemon-species/5/  monster"
      ]
     },
     "execution_count": 180,
     "metadata": {},
     "output_type": "execute_result"
    }
   ],
   "source": [
    "# Creamos un dataframe con todos los pokemones y sus egg groups\n",
    "pokemon = 'raichu'\n",
    "count = requests.get('https://pokeapi.co/api/v2/egg-group/').json()['count']\n",
    "\n",
    "df_egg_groups = pd.DataFrame()\n",
    "for i in range(1, count+1):\n",
    "    r = requests.get(f'https://pokeapi.co/api/v2/egg-group/{i}').json()\n",
    "    df_aux = pd.DataFrame(r['pokemon_species'])\n",
    "    df_aux['group'] = r['name']\n",
    "    df_egg_groups = df_egg_groups.append(df_aux, ignore_index = True)\n",
    "\n",
    "df_egg_groups.head()"
   ]
  },
  {
   "cell_type": "code",
   "execution_count": 181,
   "id": "operating-relative",
   "metadata": {},
   "outputs": [
    {
     "data": {
      "text/html": [
       "<div>\n",
       "<style scoped>\n",
       "    .dataframe tbody tr th:only-of-type {\n",
       "        vertical-align: middle;\n",
       "    }\n",
       "\n",
       "    .dataframe tbody tr th {\n",
       "        vertical-align: top;\n",
       "    }\n",
       "\n",
       "    .dataframe thead th {\n",
       "        text-align: right;\n",
       "    }\n",
       "</style>\n",
       "<table border=\"1\" class=\"dataframe\">\n",
       "  <thead>\n",
       "    <tr style=\"text-align: right;\">\n",
       "      <th></th>\n",
       "      <th>name</th>\n",
       "    </tr>\n",
       "  </thead>\n",
       "  <tbody>\n",
       "    <tr>\n",
       "      <th>308</th>\n",
       "      <td>rattata</td>\n",
       "    </tr>\n",
       "    <tr>\n",
       "      <th>309</th>\n",
       "      <td>raticate</td>\n",
       "    </tr>\n",
       "    <tr>\n",
       "      <th>310</th>\n",
       "      <td>ekans</td>\n",
       "    </tr>\n",
       "    <tr>\n",
       "      <th>311</th>\n",
       "      <td>arbok</td>\n",
       "    </tr>\n",
       "    <tr>\n",
       "      <th>312</th>\n",
       "      <td>pikachu</td>\n",
       "    </tr>\n",
       "  </tbody>\n",
       "</table>\n",
       "</div>"
      ],
      "text/plain": [
       "         name\n",
       "308   rattata\n",
       "309  raticate\n",
       "310     ekans\n",
       "311     arbok\n",
       "312   pikachu"
      ]
     },
     "execution_count": 181,
     "metadata": {},
     "output_type": "execute_result"
    }
   ],
   "source": [
    "# Filtramos por pokemones segun si comparten un grupo con el pokemon buscado (raichu)\n",
    "aux = df_egg_groups.loc[df_egg_groups['name'].str.lower() == pokemon, ['group']]\n",
    "df_egg = df_egg_groups[df_egg_groups['group'].isin(aux['group'].values)]\n",
    "\n",
    "# eliminamos duplicados si hay (interesa solo los nombres, nos deshacemos de las otras columnas por practicalidad)\n",
    "df_egg = df_egg.drop(columns=['group', 'url'])\n",
    "df_egg = df_egg.drop_duplicates()\n",
    "df_egg.head()"
   ]
  },
  {
   "cell_type": "code",
   "execution_count": 182,
   "id": "rotary-barrier",
   "metadata": {},
   "outputs": [
    {
     "data": {
      "text/plain": [
       "258"
      ]
     },
     "execution_count": 182,
     "metadata": {},
     "output_type": "execute_result"
    }
   ],
   "source": [
    "# Contamos las filas, es decir, todas las especies que pueden procrear con raichu\n",
    "# Resultado\n",
    "df_egg.count()[0]"
   ]
  },
  {
   "cell_type": "markdown",
   "id": "technological-typing",
   "metadata": {},
   "source": [
    "# Pregunta 3"
   ]
  },
  {
   "cell_type": "code",
   "execution_count": null,
   "id": "contrary-stake",
   "metadata": {},
   "outputs": [],
   "source": []
  }
 ],
 "metadata": {
  "kernelspec": {
   "display_name": "Python 3",
   "language": "python",
   "name": "python3"
  },
  "language_info": {
   "codemirror_mode": {
    "name": "ipython",
    "version": 3
   },
   "file_extension": ".py",
   "mimetype": "text/x-python",
   "name": "python",
   "nbconvert_exporter": "python",
   "pygments_lexer": "ipython3",
   "version": "3.6.8"
  }
 },
 "nbformat": 4,
 "nbformat_minor": 5
}
